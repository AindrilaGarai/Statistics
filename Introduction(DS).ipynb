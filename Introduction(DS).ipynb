{
  "nbformat": 4,
  "nbformat_minor": 0,
  "metadata": {
    "colab": {
      "provenance": [],
      "authorship_tag": "ABX9TyOYKtiW5QMhKSUDtNEzD1tm"
    },
    "kernelspec": {
      "name": "ir",
      "display_name": "R"
    },
    "language_info": {
      "name": "R"
    }
  },
  "cells": [
    {
      "cell_type": "markdown",
      "source": [
        "# <center> **$\\color{brown}{\\underline{\\text{INTRODUCTION}}}$** </center>\n",
        "<center>- by Aindrila Garai, IITKANPUR </center>\n",
        "\n",
        "---"
      ],
      "metadata": {
        "id": "1E4Fm-LJjCIT"
      }
    },
    {
      "cell_type": "markdown",
      "source": [
        "#### $\\color{magenta}{1.\\underline{\\text{ What is Statistics?}}}$\n",
        "A burning subject that accounts for collecting, presenting, analysing data & extracting certain information or interpreting regarding some phenomenon."
      ],
      "metadata": {
        "id": "qMtOslmajc5S"
      }
    },
    {
      "cell_type": "markdown",
      "source": [
        "#### $\\color{magenta}{2.\\underline{\\text{ Classification of Data:}}}$\n",
        "\n",
        "\n",
        "#### **2.1 Based On Method Of Collection-**\n",
        "\n",
        "\n",
        "*   **Primary Data:** This more reliable data is acquired directly from the field of study. eg. *Census*.  \n",
        "\n",
        "*   **Secondary Data:** This is collected from indirect sources and needs [cross validation](https://github.com/AindrilaGarai/Short-notes-on-Machine-learning-/tree/main/4.%20RESAMPLING%20METHODS). eg. *any data from newspaper or book*. \n",
        "\n",
        "\n",
        "#### **2.2 Based On Characteristics-**\n",
        "\n",
        "\n",
        "\n",
        "*   **Variable or Quantitative Data:** It is presented in terms of numerical numbers and it has two types-\n",
        "\n",
        "#####   **1. Discrete Data:** It takes some isolated value like *Class size, number of countries etc.*\n",
        "#####  **2. Continuous Data:** It takes values within its range of variation such as *Weight, income etc.*\n",
        "\n",
        "\n",
        "*   **Atribute or Quanlitative/Categorical Data:** The character observed is not measurable in numerical terms and it is of three types-\n",
        "\n",
        "##### **1. Ordinal Data:** Categories of data can be ordered in form of superiority or inferiority. eg. Grades, Finacial Status, Drug dose etc.\n",
        "\n",
        "##### **2. Non Ordinal Data:** Categories cannot be ordered in heirarchy. eg. Martial Status, Blood Group etc. \n",
        "\n",
        "##### **3. Nominal Data:** Those characteristics can be expressible as numerical figures but not fit for arithmatic operations. eg. *phone number, PIN code etc.*\n",
        "\n",
        "\n",
        "#### **2.3 Based On Time & Space-**\n",
        "\n",
        "These are non-frequency type data.\n",
        "*   **Cross Sectional Data/ Spatial Data:** This type of data varies across different geographical regions. eg. Annual temperature in 2023\n",
        "in different states.\n",
        "\n",
        "*   **Time Series Data/ Historical Data/ Chronological Data:** Time series data varies across different time points. eg. Annual temperature in India from 2001-2023.\n"
      ],
      "metadata": {
        "id": "Z9OG3I1ElBbl"
      }
    },
    {
      "cell_type": "markdown",
      "source": [
        "#### $\\color{magenta}{3.\\underline{\\text{ Scale:}}}$\n",
        "\n",
        "There are different types of scaling for numerical data.\n",
        "\n",
        "##### **3.1 Interval Scale:** Here, different levels are indexed by maintaining ordering of the numerical values. Linear transformation does not hamper the measurement and measure \"zero\" does not imply absence of the character. eg. Centigrade and Fahrenheit scale of temperature $\\frac{C}{5}=\\frac{F-32}{9}$. \n",
        "\n",
        "##### **3.2 Ratio Scale:** Same as Interval Scale but \"zero\" implies absence of the character. eg. *Weight.*\n",
        "\n",
        "##### **3.3 Nominal Scale:** When numbers or other symbols are used to  identify the group to which various objects belong to these numbers or other symbols constitute a Nominal Scale. eg. *the numbers on automobile license plates* \n",
        "\n",
        "##### **3.4 Ordinal Scale:** It may happen that objects in one category of scale are not just different from the objects in other categories of that scale but that they stand in same kind of relationto them. eg. *The no of class 8 students are greater than the no of class 7 students.*"
      ],
      "metadata": {
        "id": "psR1E6q1R-o6"
      }
    },
    {
      "cell_type": "markdown",
      "source": [
        "#### $\\color{magenta}{4.\\underline{\\text{ Collection of Data:}}}$\n",
        "In any statistical activity, the primary task is to collect data using some method.\n",
        "\n",
        "##### **4.1 Questionnaire:** A questionnaire means a systematically arranged series of relevant questions.\n",
        "\n",
        "##### **4.2 Schedule:** A list of items on which information will be collected.\n",
        "\n",
        "##### **4.3 Interview Method:** An interviewer gathers the data directly from the field of enquiry.\n",
        "\n",
        "##### **4.4 Mailed Questionnaire Method:** Questionnaires are sent to respondents for answering and post it back."
      ],
      "metadata": {
        "id": "BpoUZ2n2SNZR"
      }
    },
    {
      "cell_type": "markdown",
      "source": [
        "#### $\\color{magenta}{5.\\underline{\\text{ Scrutiny of Data:}}}$\n",
        "\n",
        "Collection of data, it is important to cross validate each and every response in\n",
        "order to make a fair and proper analysis. If any data seems inconsistent, preprocessing or **data cleansing** should be conducted before final analysis. eg. *a govt employee claims that his monthly income is Rs.1500 - so, here may be a chance of a lack of zero/s from the right.*"
      ],
      "metadata": {
        "id": "R7kiVI3bbPJa"
      }
    },
    {
      "cell_type": "markdown",
      "source": [
        "#### $\\color{magenta}{5.\\underline{\\text{ Representation of Data:}}}$\n",
        "\n",
        "##### **5.1 Textual Representation:** Data is represented through plain text. It is too ineffective.\n",
        "##### **5.2 Tabular Representation:** A well defined table should have following features- \n",
        "\n",
        "*   Title- A brief description of contents of the table.\n",
        "*   Stub- The extreme left part describing the rows.\n",
        "*   Caption- The upper part describing the columns.\n",
        "*   Body- Exhibiting all relevant information.\n",
        "*   Footnote- Source of the data.\n",
        "\n",
        "\n",
        "### **Table No: 1**\n",
        "![Screenshot 2023-05-28 081245.png](data:image/png;base64,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)\n",
        "Source: [Diabetes Data](https://github.com/YichenZhuDuke/Classification-Tree-with-Surface-to-Volume-ratio-Regularization/blob/master/diabetes.csv)\n",
        "\n",
        "##### **5.3 Graphical Representation:** We have discussed this part in [Data Visualisation](https://github.com/AindrilaGarai/Statistics/tree/main/1.Descriptive%20Statistics/2.DATA%20VISUALISATION)."
      ],
      "metadata": {
        "id": "LhmUW6YbdXv_"
      }
    },
    {
      "cell_type": "markdown",
      "source": [
        "#### $\\color{magenta}{6.\\underline{\\text{ Frequency Distribution:}}}$\n",
        "\n",
        "The features to construct a frequency table are-\n",
        "\n",
        "i) **Range**(r) = difference between the maximum and minimum of dataset."
      ],
      "metadata": {
        "id": "TxpXdc7llXp-"
      }
    },
    {
      "cell_type": "code",
      "source": [
        "range <- max(data) - min(data) #range.default()"
      ],
      "metadata": {
        "id": "-JG8v_pllZp-"
      },
      "execution_count": null,
      "outputs": []
    },
    {
      "cell_type": "markdown",
      "source": [
        "ii) **Class Limit** = Some intervals where the whole range of variables is divided into some groups."
      ],
      "metadata": {
        "id": "7ssqeu8mnkmL"
      }
    },
    {
      "cell_type": "code",
      "source": [
        "class_limit <- function(data,class_width)\n",
        "{\n",
        "  upper_limit <- NULL\n",
        "  lower_limit <- first_lowest_class_limit\n",
        "  new_upper_limit <- 0\n",
        "  new_lower_limit <- 0\n",
        "  while(max(data)>new_upper_limit)\n",
        "  {\n",
        "    new_upper_limit <- max(lower_limit)+class_width\n",
        "    upper_limit <- c(upper_limit, new_upper_limit)\n",
        "    \n",
        "    new_lower_limit <- ceiling(new_upper_limit)\n",
        "    lower_limit <- c(lower_limit, new_lower_limit)\n",
        "    \n",
        "  }\n",
        "  lower_limit <- lower_limit[-(which.max(lower_limit))]\n",
        "  rtn <- data.frame(lower_limit, upper_limit )\n",
        "  rtn\n",
        "}\n",
        "class_limit <- class_limit(data,0.9)"
      ],
      "metadata": {
        "id": "VQuXHZNhoPhX"
      },
      "execution_count": null,
      "outputs": []
    },
    {
      "cell_type": "markdown",
      "source": [
        "iii) **Class Width**(w) = Upper class limit $-$ Lower class limit."
      ],
      "metadata": {
        "id": "QNWQKpoXmNSn"
      }
    },
    {
      "cell_type": "code",
      "source": [
        "# one of the class width or number of classes should be given\n",
        "class_width <- 0.9 #given"
      ],
      "metadata": {
        "id": "XlJq5RENmTLC"
      },
      "execution_count": null,
      "outputs": []
    },
    {
      "cell_type": "markdown",
      "source": [
        "iii) **Number of classes**(c) = $\\frac{r}{w}$, converted to nearest integer."
      ],
      "metadata": {
        "id": "uAJiH4EOmjtS"
      }
    },
    {
      "cell_type": "code",
      "source": [
        "C <- round((range)/class_width) # check round function in numerical analysis\n",
        "# you may try with fixed classes"
      ],
      "metadata": {
        "id": "F3W7-XHPmnd2"
      },
      "execution_count": null,
      "outputs": []
    },
    {
      "cell_type": "markdown",
      "source": [
        "iv) **Class boundaries** = For a continuous variate, class limits are smoothen to class boundaries in the following mathod."
      ],
      "metadata": {
        "id": "ZM54tJPUmqVC"
      }
    },
    {
      "cell_type": "code",
      "source": [
        "class_boundary <- function(class_limit)\n",
        "{\n",
        "  lim <- class_limit\n",
        "  gap <- (lim$lower_limit[2] - lim$upper_limit[1]) /2\n",
        "  lower_boundary <- lim$lower_limit - gap\n",
        "  upper_boundary <- lim$upper_limit + gap\n",
        "  rtn <- data.frame(lower_boundary, upper_boundary )\n",
        "  return(rtn)\n",
        "}\n",
        "class_boundary <- class_boundary(class_limit)"
      ],
      "metadata": {
        "id": "q0bg64Jkmsu0"
      },
      "execution_count": null,
      "outputs": []
    },
    {
      "cell_type": "markdown",
      "source": [
        "##### **Class Mark** = The mid value of the class limits or boundaries."
      ],
      "metadata": {
        "id": "q1D5FaEw5VUQ"
      }
    },
    {
      "cell_type": "code",
      "source": [
        "class_mark <- function(class_limit)\n",
        "{\n",
        "  len <- dim(class_limit)[1]\n",
        "  classMark <- numeric(len)\n",
        "  for(i in 1:len)\n",
        "  {\n",
        "    classMark[i] <- sum(class_limit[i,])/2 # try to use apply()\n",
        "  }\n",
        "  data.frame(classMark)\n",
        "}\n",
        "class_mark <- class_mark(class_limit)"
      ],
      "metadata": {
        "id": "kAAy9TmZ5kEF"
      },
      "execution_count": null,
      "outputs": []
    },
    {
      "cell_type": "markdown",
      "source": [
        "v) **Frequency** = Number of data in each class"
      ],
      "metadata": {
        "id": "oHWqqZa-mxlc"
      }
    },
    {
      "cell_type": "code",
      "source": [
        "freq <- function(data,class_limit)\n",
        "{\n",
        "  lim <- class_limit\n",
        "  len <- dim(lim)[1]\n",
        "  fre <- numeric(len)\n",
        "  for(i in 1:len)\n",
        "  {\n",
        "    vec <- numeric(length = length(data))\n",
        "    for(j in 1:length(data))\n",
        "    {\n",
        "    vec[j] <- (data[j] >= lim$lower_limit[i] && data[j] <= lim$upper_limit[i])\n",
        "    \n",
        "    fre[i] <- sum(vec)\n",
        "    }\n",
        "  }\n",
        "  return(data.frame(fre))\n",
        "}\n",
        "freq <- freq(data,class_limit)"
      ],
      "metadata": {
        "id": "Phy83zujm4mM"
      },
      "execution_count": null,
      "outputs": []
    },
    {
      "cell_type": "markdown",
      "source": [
        "\n",
        "\n",
        "#### **Cumulative Frequency:**\n",
        "\n",
        "cumulative more than type of a particular class = total number of data points + frequency of the class $-$ cumulative less than type of the class. (*Hint: sum- CF more + CF less*)"
      ],
      "metadata": {
        "id": "9zWSE8mi0tPV"
      }
    },
    {
      "cell_type": "code",
      "source": [
        "cumulative <- function(freq, type)\n",
        "{\n",
        "  len <- dim(freq)[1]\n",
        "  vec <- numeric(len)\n",
        "  if(type==\"increasing\")\n",
        "  {\n",
        "  for (i in 1:len) \n",
        "  {\n",
        "    vec[i] <- sum(freq[1:i,])\n",
        "  }\n",
        "  return(data.frame(vec))\n",
        "  }\n",
        "  if(type==\"decreasing\")\n",
        "  {\n",
        "   for (i in len:1) \n",
        "  {\n",
        "    vec[len-i+1] <- sum(freq[len-i+1:i,])\n",
        "  }\n",
        "  return(data.frame(vec))\n",
        "  }\n",
        "}\n",
        "cum_in <- cumulative(freq,\"increasing\")\n",
        "cum_de <- cumulative(freq,\"decreasing\")"
      ],
      "metadata": {
        "id": "4Db_kdkbtrPk"
      },
      "execution_count": null,
      "outputs": []
    },
    {
      "cell_type": "markdown",
      "source": [
        "vi) **Relative frequency** = $\\frac{\\text{\n",
        "Frequency of the class}}{\\text{Total Frequency}}$"
      ],
      "metadata": {
        "id": "V96c1_ukm476"
      }
    },
    {
      "cell_type": "code",
      "source": [
        "relativeFreq <- function(freq)\n",
        "{\n",
        "  len = dim(freq)[1]\n",
        "  vec <- numeric(len)\n",
        "  for(i in 1:len)\n",
        "  {\n",
        "    vec[i] <- freq[i,]/sum(freq[,1])\n",
        "  }\n",
        "  return(data.frame(vec))\n",
        "}\n",
        "rel_freq <- relativeFreq(freq)\n",
        "sum(rel_freq) # sum of relative frequencies should be 1"
      ],
      "metadata": {
        "colab": {
          "base_uri": "https://localhost:8080/",
          "height": 34
        },
        "id": "-QQWHHKsm7I7",
        "outputId": "d878b395-b7ca-4aee-ffb2-d3541404b7f2"
      },
      "execution_count": null,
      "outputs": [
        {
          "output_type": "display_data",
          "data": {
            "text/html": [
              "1"
            ],
            "text/markdown": "1",
            "text/latex": "1",
            "text/plain": [
              "[1] 1"
            ]
          },
          "metadata": {}
        }
      ]
    },
    {
      "cell_type": "markdown",
      "source": [
        "\n",
        "\n",
        "\n",
        "\n",
        "\n",
        "\n",
        "\n",
        "\n",
        "\n",
        "\n",
        "\n",
        "\n",
        "\n",
        "vii) **Frequency Density** = $\\frac{\\text{\n",
        "Frequency of the class}}{\\text{Class Width}}$ \n",
        "\n"
      ],
      "metadata": {
        "id": "JlrJzlPZlj_3"
      }
    },
    {
      "cell_type": "code",
      "source": [
        "Freqden <- function(freq)\n",
        "{\n",
        "  len = dim(freq)[1]\n",
        "  vec <- numeric(len)\n",
        "  for(i in 1:len)\n",
        "  {\n",
        "    vec[i] <- round(freq[i,]/class_width, 2)\n",
        "  }\n",
        "  return(data.frame(vec))\n",
        "}\n",
        "freqden <- Freqden(freq)"
      ],
      "metadata": {
        "id": "r5dJNg15yNSh"
      },
      "execution_count": null,
      "outputs": []
    },
    {
      "cell_type": "code",
      "source": [
        "# Let's make a frequency table\n",
        "data <- c(11.1, 13.0, 9.9, 13.3, 14.5, 11.0, 10.8,\n",
        "10.0, 10.6, 11.4, 12.5, 12.6, 15.2, 13.7,\n",
        "11.3, 14.2, 12.4, 12.4, 12.3, 13.9, 13.1,\n",
        "13.7, 10.9, 13.4, 12.5, 14.5, 13.4, 15.9,\n",
        "13.5, 13.6, 12.5, 10.2, 9.4, 12.0, 11.1,\n",
        "14.3, 12.6, 13.6, 12.6, 11.4, 13.9, 13.9,\n",
        "11.4, 11.9, 15.7, 12.6, 14.4, 11.6, 14.5,\n",
        "15.3)\n",
        "\n",
        "class_width <- 0.9 #given\n",
        "first_lowest_class_limit <- 9 #(by default=floor(min(data)))\n",
        "\n",
        "freq_table <- data.frame(c(class_limit, class_boundary, class_mark, freq, cum_in, cum_de, rel_freq, freqden))\n",
        "freq_table"
      ],
      "metadata": {
        "id": "9SoNRP6EqqQl",
        "colab": {
          "base_uri": "https://localhost:8080/",
          "height": 317
        },
        "outputId": "5f3e3dcc-b6f1-4474-c21b-7ff6ffb917ab"
      },
      "execution_count": null,
      "outputs": [
        {
          "output_type": "display_data",
          "data": {
            "text/html": [
              "<table class=\"dataframe\">\n",
              "<caption>A data.frame: 7 × 10</caption>\n",
              "<thead>\n",
              "\t<tr><th scope=col>lower_limit</th><th scope=col>upper_limit</th><th scope=col>lower_boundary</th><th scope=col>upper_boundary</th><th scope=col>classMark</th><th scope=col>fre</th><th scope=col>vec</th><th scope=col>vec.1</th><th scope=col>vec.2</th><th scope=col>vec.3</th></tr>\n",
              "\t<tr><th scope=col>&lt;dbl&gt;</th><th scope=col>&lt;dbl&gt;</th><th scope=col>&lt;dbl&gt;</th><th scope=col>&lt;dbl&gt;</th><th scope=col>&lt;dbl&gt;</th><th scope=col>&lt;dbl&gt;</th><th scope=col>&lt;dbl&gt;</th><th scope=col>&lt;dbl&gt;</th><th scope=col>&lt;dbl&gt;</th><th scope=col>&lt;dbl&gt;</th></tr>\n",
              "</thead>\n",
              "<tbody>\n",
              "\t<tr><td> 9</td><td> 9.9</td><td> 8.95</td><td> 9.95</td><td> 9.45</td><td> 2</td><td> 2</td><td>50</td><td>0.04</td><td> 2.22</td></tr>\n",
              "\t<tr><td>10</td><td>10.9</td><td> 9.95</td><td>10.95</td><td>10.45</td><td> 5</td><td> 7</td><td>48</td><td>0.10</td><td> 5.56</td></tr>\n",
              "\t<tr><td>11</td><td>11.9</td><td>10.95</td><td>11.95</td><td>11.45</td><td> 9</td><td>16</td><td>43</td><td>0.18</td><td>10.00</td></tr>\n",
              "\t<tr><td>12</td><td>12.9</td><td>11.95</td><td>12.95</td><td>12.45</td><td>11</td><td>27</td><td>34</td><td>0.22</td><td>12.22</td></tr>\n",
              "\t<tr><td>13</td><td>13.9</td><td>12.95</td><td>13.95</td><td>13.45</td><td>13</td><td>40</td><td>23</td><td>0.26</td><td>14.44</td></tr>\n",
              "\t<tr><td>14</td><td>14.9</td><td>13.95</td><td>14.95</td><td>14.45</td><td> 6</td><td>46</td><td>10</td><td>0.12</td><td> 6.67</td></tr>\n",
              "\t<tr><td>15</td><td>15.9</td><td>14.95</td><td>15.95</td><td>15.45</td><td> 4</td><td>50</td><td> 4</td><td>0.08</td><td> 4.44</td></tr>\n",
              "</tbody>\n",
              "</table>\n"
            ],
            "text/markdown": "\nA data.frame: 7 × 10\n\n| lower_limit &lt;dbl&gt; | upper_limit &lt;dbl&gt; | lower_boundary &lt;dbl&gt; | upper_boundary &lt;dbl&gt; | classMark &lt;dbl&gt; | fre &lt;dbl&gt; | vec &lt;dbl&gt; | vec.1 &lt;dbl&gt; | vec.2 &lt;dbl&gt; | vec.3 &lt;dbl&gt; |\n|---|---|---|---|---|---|---|---|---|---|\n|  9 |  9.9 |  8.95 |  9.95 |  9.45 |  2 |  2 | 50 | 0.04 |  2.22 |\n| 10 | 10.9 |  9.95 | 10.95 | 10.45 |  5 |  7 | 48 | 0.10 |  5.56 |\n| 11 | 11.9 | 10.95 | 11.95 | 11.45 |  9 | 16 | 43 | 0.18 | 10.00 |\n| 12 | 12.9 | 11.95 | 12.95 | 12.45 | 11 | 27 | 34 | 0.22 | 12.22 |\n| 13 | 13.9 | 12.95 | 13.95 | 13.45 | 13 | 40 | 23 | 0.26 | 14.44 |\n| 14 | 14.9 | 13.95 | 14.95 | 14.45 |  6 | 46 | 10 | 0.12 |  6.67 |\n| 15 | 15.9 | 14.95 | 15.95 | 15.45 |  4 | 50 |  4 | 0.08 |  4.44 |\n\n",
            "text/latex": "A data.frame: 7 × 10\n\\begin{tabular}{llllllllll}\n lower\\_limit & upper\\_limit & lower\\_boundary & upper\\_boundary & classMark & fre & vec & vec.1 & vec.2 & vec.3\\\\\n <dbl> & <dbl> & <dbl> & <dbl> & <dbl> & <dbl> & <dbl> & <dbl> & <dbl> & <dbl>\\\\\n\\hline\n\t  9 &  9.9 &  8.95 &  9.95 &  9.45 &  2 &  2 & 50 & 0.04 &  2.22\\\\\n\t 10 & 10.9 &  9.95 & 10.95 & 10.45 &  5 &  7 & 48 & 0.10 &  5.56\\\\\n\t 11 & 11.9 & 10.95 & 11.95 & 11.45 &  9 & 16 & 43 & 0.18 & 10.00\\\\\n\t 12 & 12.9 & 11.95 & 12.95 & 12.45 & 11 & 27 & 34 & 0.22 & 12.22\\\\\n\t 13 & 13.9 & 12.95 & 13.95 & 13.45 & 13 & 40 & 23 & 0.26 & 14.44\\\\\n\t 14 & 14.9 & 13.95 & 14.95 & 14.45 &  6 & 46 & 10 & 0.12 &  6.67\\\\\n\t 15 & 15.9 & 14.95 & 15.95 & 15.45 &  4 & 50 &  4 & 0.08 &  4.44\\\\\n\\end{tabular}\n",
            "text/plain": [
              "  lower_limit upper_limit lower_boundary upper_boundary classMark fre vec vec.1\n",
              "1  9           9.9         8.95           9.95           9.45      2   2  50   \n",
              "2 10          10.9         9.95          10.95          10.45      5   7  48   \n",
              "3 11          11.9        10.95          11.95          11.45      9  16  43   \n",
              "4 12          12.9        11.95          12.95          12.45     11  27  34   \n",
              "5 13          13.9        12.95          13.95          13.45     13  40  23   \n",
              "6 14          14.9        13.95          14.95          14.45      6  46  10   \n",
              "7 15          15.9        14.95          15.95          15.45      4  50   4   \n",
              "  vec.2 vec.3\n",
              "1 0.04   2.22\n",
              "2 0.10   5.56\n",
              "3 0.18  10.00\n",
              "4 0.22  12.22\n",
              "5 0.26  14.44\n",
              "6 0.12   6.67\n",
              "7 0.08   4.44"
            ]
          },
          "metadata": {}
        }
      ]
    }
  ]
}